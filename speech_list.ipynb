{
 "cells": [
  {
   "cell_type": "code",
   "execution_count": 1,
   "metadata": {
    "collapsed": true
   },
   "outputs": [],
   "source": [
    "from lxml import html\n",
    "import requests"
   ]
  },
  {
   "cell_type": "markdown",
   "metadata": {},
   "source": [
    "# Election Campaign 2016"
   ]
  },
  {
   "cell_type": "markdown",
   "metadata": {},
   "source": [
    "## Candidate URLs"
   ]
  },
  {
   "cell_type": "code",
   "execution_count": 2,
   "metadata": {
    "collapsed": true
   },
   "outputs": [],
   "source": [
    "page = requests.get('http://www.presidency.ucsb.edu/2016_election.php')\n",
    "tree = html.fromstring(page.content)"
   ]
  },
  {
   "cell_type": "code",
   "execution_count": 7,
   "metadata": {
    "collapsed": false
   },
   "outputs": [
    {
     "name": "stdout",
     "output_type": "stream",
     "text": [
      "['Hillary Clinton ', 'Bernie Sanders', \"Martin O'Malley\", 'Jim Webb', 'Donald Trump', 'John Kasich', 'Ted Cruz', 'Marco Rubio', 'Ben Carson', 'Jeb Bush', 'Chris Christie', 'Carly Fiorina', 'Rick Santorum', 'Rand Paul', 'Mike Huckabee', 'George Pataki', 'Lindsey Graham', 'Bobby Jindal', 'Scott Walker', 'Rick Perry']\n"
     ]
    }
   ],
   "source": [
    "#This will create a list of buyers:\n",
    "table=tree.xpath('//table[@bgcolor=\"#8497AD\"]')[1]\n",
    "CandidateList=table.xpath('//tr//td//table//tr//td[@class=\"doctext\"]//p//span[@class=\"roman\"]//text()')\n",
    "CandidateList.remove('Lincoln Chafee')\n",
    "print CandidateList"
   ]
  },
  {
   "cell_type": "code",
   "execution_count": 8,
   "metadata": {
    "collapsed": false
   },
   "outputs": [
    {
     "name": "stdout",
     "output_type": "stream",
     "text": [
      "http://www.presidency.ucsb.edu/2016_election_speeches.php?candidate=70&campaign=2016CLINTON&doctype=5000\n",
      "http://www.presidency.ucsb.edu/2016_election_speeches.php?candidate=70&campaign=2016CLINTON&doctype=5001\n",
      "http://www.presidency.ucsb.edu/2016_election_speeches.php?candidate=107&campaign=2016SANDERS&doctype=5000\n",
      "http://www.presidency.ucsb.edu/2016_election_speeches.php?candidate=107&campaign=2016SANDERS&doctype=5001\n",
      "http://www.presidency.ucsb.edu/2016_election_speeches.php?candidate=112&campaign=2016OMALLEY&doctype=5000\n",
      "http://www.presidency.ucsb.edu/2016_election_speeches.php?candidate=112&campaign=2016OMALLEY&doctype=5001\n",
      "http://www.presidency.ucsb.edu/2016_election_speeches.php?candidate=118&campaign=2016WEBB&doctype=5000\n",
      "http://www.presidency.ucsb.edu/2016_election_speeches.php?candidate=118&campaign=2016WEBB&doctype=5001\n",
      "http://www.presidency.ucsb.edu/2016_election_speeches.php?candidate=115&campaign=2016TRUMP&doctype=5000\n",
      "http://www.presidency.ucsb.edu/2016_election_speeches.php?candidate=115&campaign=2016TRUMP&doctype=5001\n",
      "http://www.presidency.ucsb.edu/2016_election_speeches.php?candidate=114&campaign=2016KASICH&doctype=5000\n",
      "http://www.presidency.ucsb.edu/2016_election_speeches.php?candidate=114&campaign=2016KASICH&doctype=5001\n",
      "http://www.presidency.ucsb.edu/2016_election_speeches.php?candidate=103&campaign=2016CRUZ&doctype=5000\n",
      "http://www.presidency.ucsb.edu/2016_election_speeches.php?candidate=103&campaign=2016CRUZ&doctype=5001\n",
      "http://www.presidency.ucsb.edu/2016_election_speeches.php?candidate=105&campaign=2016RUBIO&doctype=5000\n",
      "http://www.presidency.ucsb.edu/2016_election_speeches.php?candidate=105&campaign=2016RUBIO&doctype=5001\n",
      "http://www.presidency.ucsb.edu/2016_election_speeches.php?candidate=108&campaign=2016CARSON&doctype=5000\n",
      "http://www.presidency.ucsb.edu/2016_election_speeches.php?candidate=108&campaign=2016CARSON&doctype=5001\n",
      "http://www.presidency.ucsb.edu/2016_election_speeches.php?candidate=101&campaign=2016BUSH&doctype=5000\n",
      "http://www.presidency.ucsb.edu/2016_election_speeches.php?candidate=101&campaign=2016BUSH&doctype=5001\n",
      "http://www.presidency.ucsb.edu/2016_election_speeches.php?candidate=117&campaign=2016CHRISTIE&doctype=5000\n",
      "http://www.presidency.ucsb.edu/2016_election_speeches.php?candidate=117&campaign=2016CHRISTIE&doctype=5001\n",
      "http://www.presidency.ucsb.edu/2016_election_speeches.php?candidate=106&campaign=2016FIORINA&doctype=5000\n",
      "http://www.presidency.ucsb.edu/2016_election_speeches.php?candidate=106&campaign=2016FIORINA&doctype=5001\n",
      "http://www.presidency.ucsb.edu/2016_election_speeches.php?candidate=96&campaign=2016SANTORUM&doctype=5000\n",
      "http://www.presidency.ucsb.edu/2016_election_speeches.php?candidate=96&campaign=2016SANTORUM&doctype=5001\n",
      "http://www.presidency.ucsb.edu/2016_election_speeches.php?candidate=104&campaign=2016PAUL&doctype=5000\n",
      "http://www.presidency.ucsb.edu/2016_election_speeches.php?candidate=104&campaign=2016PAUL&doctype=5001\n",
      "http://www.presidency.ucsb.edu/2016_election_speeches.php?candidate=77&campaign=2016HUCKABEE&doctype=5000\n",
      "http://www.presidency.ucsb.edu/2016_election_speeches.php?candidate=77&campaign=2016HUCKABEE&doctype=5001\n",
      "http://www.presidency.ucsb.edu/2016_election_speeches.php?candidate=111&campaign=2016PATAKI&doctype=5000\n",
      "http://www.presidency.ucsb.edu/2016_election_speeches.php?candidate=111&campaign=2016PATAKI&doctype=5001\n",
      "http://www.presidency.ucsb.edu/2016_election_speeches.php?candidate=110&campaign=2016GRAHAM&doctype=5000\n",
      "http://www.presidency.ucsb.edu/2016_election_speeches.php?candidate=110&campaign=2016GRAHAM&doctype=5001\n",
      "http://www.presidency.ucsb.edu/2016_election_speeches.php?candidate=116&campaign=2016JINDAL&doctype=5000\n",
      "http://www.presidency.ucsb.edu/2016_election_speeches.php?candidate=116&campaign=2016JINDAL&doctype=5001\n",
      "http://www.presidency.ucsb.edu/2016_election_speeches.php?candidate=109&campaign=2016WALKER&doctype=5000\n",
      "http://www.presidency.ucsb.edu/2016_election_speeches.php?candidate=109&campaign=2016WALKER&doctype=5001\n",
      "http://www.presidency.ucsb.edu/2016_election_speeches.php?candidate=78&campaign=2016PERRY&doctype=5000\n",
      "http://www.presidency.ucsb.edu/2016_election_speeches.php?candidate=78&campaign=2016PERRY&doctype=5001\n"
     ]
    }
   ],
   "source": [
    "CandidateUrlList=[]\n",
    "urls=table.xpath('//tr//td//table//tr//td[@class=\"doctext\"]//p//a')\n",
    "for url in urls:\n",
    "    if url.attrib[\"href\"][-1]==\"0\" or url.attrib[\"href\"][-1]==\"1\":\n",
    "        CandidateUrlList.append(\"http://www.presidency.ucsb.edu/\"+url.attrib[\"href\"])\n",
    "CandidateUrlList.remove('http://www.presidency.ucsb.edu/2016_election_speeches.php?candidate=113&campaign=2016CHAFEE&doctype=5000')\n",
    "print \"\\n\".join(CandidateUrlList)"
   ]
  },
  {
   "cell_type": "markdown",
   "metadata": {},
   "source": [
    "## Getting text URLs with Candidate Names and Timestamps"
   ]
  },
  {
   "cell_type": "code",
   "execution_count": 9,
   "metadata": {
    "collapsed": false
   },
   "outputs": [],
   "source": [
    "SpeechUrlList=[]\n",
    "for c in range(len(CandidateUrlList)):\n",
    "    page = requests.get(CandidateUrlList[c])\n",
    "    tree = html.fromstring(page.content)\n",
    "\n",
    "    for url in tree.xpath('//table[@width=\"700\"]//tr//td[@class=\"listdate\"]//a'):\n",
    "        if url.text[0]!=\"I\":\n",
    "            SpeechUrlList.append([CandidateList[c/2],url.text.split()[0],\"http://www.presidency.ucsb.edu/\"+url.attrib[\"href\"][3:]])"
   ]
  },
  {
   "cell_type": "code",
   "execution_count": 10,
   "metadata": {
    "collapsed": false
   },
   "outputs": [],
   "source": [
    "SpeechUrlDate=[]\n",
    "\n",
    "for c in range(len(CandidateUrlList)):\n",
    "    page = requests.get(CandidateUrlList[c])\n",
    "    tree = html.fromstring(page.content)\n",
    "\n",
    "    c=0\n",
    "    for url in tree.xpath('//table[@width=\"700\"]//tr//td[@class=\"listdate\"]'):\n",
    "        if url.getchildren()==[] and c%3==1:\n",
    "            SpeechUrlDate.append(url.text)\n",
    "        c=c+1"
   ]
  },
  {
   "cell_type": "code",
   "execution_count": 11,
   "metadata": {
    "collapsed": false
   },
   "outputs": [],
   "source": [
    "f=open('speech_list.csv','w')\n",
    "for i in range(len(SpeechUrlList)):\n",
    "    f.write(SpeechUrlList[i][0]+\"\\t\"+SpeechUrlDate[i]+\"\\t\"+SpeechUrlList[i][1].encode(\"utf8\")+\"\\t\"+SpeechUrlList[i][2]+\"\\n\")\n",
    "f.close()"
   ]
  },
  {
   "cell_type": "markdown",
   "metadata": {
    "collapsed": true
   },
   "source": [
    "# Election Campaign 2008"
   ]
  },
  {
   "cell_type": "code",
   "execution_count": 1,
   "metadata": {
    "collapsed": true
   },
   "outputs": [],
   "source": [
    "from lxml import html\n",
    "import requests"
   ]
  },
  {
   "cell_type": "markdown",
   "metadata": {},
   "source": [
    "## Candidate URLs"
   ]
  },
  {
   "cell_type": "code",
   "execution_count": 5,
   "metadata": {
    "collapsed": false
   },
   "outputs": [],
   "source": [
    "page = requests.get('http://www.presidency.ucsb.edu/2008_election.php')\n",
    "tree = html.fromstring(page.content)"
   ]
  },
  {
   "cell_type": "code",
   "execution_count": 9,
   "metadata": {
    "collapsed": false
   },
   "outputs": [
    {
     "name": "stdout",
     "output_type": "stream",
     "text": [
      "['Barack Obama', 'Hillary Clinton 2008', 'John Edwards ', 'Bill Richardson ', 'Christopher Dodd', 'Joseph Biden ', 'John McCain', 'Mike Huckabee ', 'Mitt Romney', 'Rudy Giuliani ', 'Fred Thompson']\n"
     ]
    }
   ],
   "source": [
    "#This will create a list of buyers:\n",
    "table=tree.xpath('//table[@bgcolor=\"#8497AD\"]')[1]\n",
    "CandidateList=table.xpath('//tr//td//table//tr//td[@class=\"doctext\"]//p//span[@class=\"roman\"]//text()')\n",
    "CandidateList[1]+=\"2008\"\n",
    "print CandidateList"
   ]
  },
  {
   "cell_type": "code",
   "execution_count": 10,
   "metadata": {
    "collapsed": false
   },
   "outputs": [
    {
     "name": "stdout",
     "output_type": "stream",
     "text": [
      "['http://www.presidency.ucsb.edu/2008_election_speeches.php?candidate=44&campaign=2008OBAMA&doctype=5000', 'http://www.presidency.ucsb.edu/2008_election_speeches.php?candidate=44&campaign=2008OBAMA&doctype=5001', 'http://www.presidency.ucsb.edu/2008_election_speeches.php?candidate=70&campaign=2008CLINTON&doctype=5000', 'http://www.presidency.ucsb.edu/2008_election_speeches.php?candidate=70&campaign=2008CLINTON&doctype=5001', 'http://www.presidency.ucsb.edu/2008_election_speeches.php?candidate=71&campaign=2008EDWARDS&doctype=5000']\n"
     ]
    }
   ],
   "source": [
    "CandidateUrlList=[]\n",
    "urls=table.xpath('//tr//td//table//tr//td[@class=\"doctext\"]//p//a')\n",
    "for url in urls:\n",
    "    if url.attrib[\"href\"][-1]==\"0\" or url.attrib[\"href\"][-1]==\"1\":\n",
    "        CandidateUrlList.append(\"http://www.presidency.ucsb.edu/\"+url.attrib[\"href\"])\n",
    "print CandidateUrlList[0:5]"
   ]
  },
  {
   "cell_type": "markdown",
   "metadata": {},
   "source": [
    "## Getting text URLs with Candidate Names and Timestamps"
   ]
  },
  {
   "cell_type": "code",
   "execution_count": 14,
   "metadata": {
    "collapsed": false
   },
   "outputs": [],
   "source": [
    "SpeechUrlList=[]\n",
    "for c in range(len(CandidateUrlList)):\n",
    "    page = requests.get(CandidateUrlList[c])\n",
    "    tree = html.fromstring(page.content)\n",
    "\n",
    "    for url in tree.xpath('//table[@width=\"700\"]//tr//td[@class=\"listdate\"]//a'):\n",
    "        if url.text[0] not in [\"I\",\"Q\",\"E\"]:\n",
    "            SpeechUrlList.append([CandidateList[c/2],url.text.split()[0],\"http://www.presidency.ucsb.edu/\"+url.attrib[\"href\"][3:]])"
   ]
  },
  {
   "cell_type": "code",
   "execution_count": 12,
   "metadata": {
    "collapsed": false
   },
   "outputs": [],
   "source": [
    "SpeechUrlDate=[]\n",
    "\n",
    "for c in range(len(CandidateUrlList)):\n",
    "    page = requests.get(CandidateUrlList[c])\n",
    "    tree = html.fromstring(page.content)\n",
    "\n",
    "    k=0\n",
    "    for url in tree.xpath('//table[@width=\"700\"]//tr//td[@class=\"listdate\"]'):\n",
    "        if url.getchildren()==[] and k%3==1:\n",
    "            SpeechUrlDate.append(url.text)\n",
    "        k=k+1"
   ]
  },
  {
   "cell_type": "code",
   "execution_count": 14,
   "metadata": {
    "collapsed": false
   },
   "outputs": [],
   "source": [
    "f=open('speech_list_2008.csv','w')\n",
    "for i in range(len(SpeechUrlList)):\n",
    "    f.write(SpeechUrlList[i][0]+\"\\t\"+SpeechUrlDate[i]+\"\\t\"+SpeechUrlList[i][1].encode(\"utf8\")+\"\\t\"+SpeechUrlList[i][2]+\"\\n\")\n",
    "f.close()"
   ]
  }
 ],
 "metadata": {
  "hide_input": false,
  "kernelspec": {
   "display_name": "Python 2",
   "language": "python",
   "name": "python2"
  },
  "language_info": {
   "codemirror_mode": {
    "name": "ipython",
    "version": 2
   },
   "file_extension": ".py",
   "mimetype": "text/x-python",
   "name": "python",
   "nbconvert_exporter": "python",
   "pygments_lexer": "ipython2",
   "version": "2.7.11"
  },
  "toc": {
   "toc_cell": false,
   "toc_number_sections": true,
   "toc_threshold": 6,
   "toc_window_display": false
  }
 },
 "nbformat": 4,
 "nbformat_minor": 0
}
