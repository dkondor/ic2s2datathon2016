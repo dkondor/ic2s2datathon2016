{
 "cells": [
  {
   "cell_type": "markdown",
   "metadata": {},
   "source": [
    "# Spectral embedding of the results from SVD"
   ]
  },
  {
   "cell_type": "code",
   "execution_count": 5,
   "metadata": {
    "collapsed": false
   },
   "outputs": [],
   "source": [
    "#import tensorflow as tf\n",
    "import nltk\n",
    "from os import listdir\n",
    "from os.path import isfile, join\n",
    "from nltk.corpus import stopwords\n",
    "import re\n",
    "from collections import Counter\n",
    "from sklearn.feature_extraction.text import TfidfVectorizer\n",
    "from sklearn.feature_extraction.text import CountVectorizer\n",
    "import numpy as np"
   ]
  },
  {
   "cell_type": "code",
   "execution_count": 6,
   "metadata": {
    "collapsed": false
   },
   "outputs": [],
   "source": [
    "with open('../RemarksAndStatement/name_candidates_speech.txt', 'r') as f:\n",
    "    list_name_candidates = f.read()\n",
    "    list_name_candidates = list_name_candidates.split('\\n')[0:-1]\n",
    "    \n",
    "with open('../RemarksAndStatement/id_candidates_speech.txt', 'r') as f:\n",
    "    list_id_candidates = f.read()\n",
    "    list_id_candidates = list_id_candidates.split('\\n')[0:-1]\n",
    "    \n",
    "path_text_files = '../RemarksAndStatement/text_files_with_punctuation/'\n",
    "path_files = [f for f in listdir(path_text_files) if isfile(join(path_text_files, f))]\n",
    "\n",
    "text_files = list()\n",
    "for current_path_file in path_files:\n",
    "    with open(path_text_files+'/'+current_path_file, 'r') as f:\n",
    "        current_file = f.read()\n",
    "        current_file = current_file.split(' ')\n",
    "        for k in range(len(current_file)):\n",
    "            current_file[k] = re.sub(\"[^a-zA-Z]\",\"\", current_file[k])\n",
    "        #current_file = [word.replace('\\n','') for word in current_file if ((word not in stopwords.words('english')) \\\n",
    "        #                                                  and (word!=''))]\n",
    "        text = ''\n",
    "        for k in range(len(current_file)):\n",
    "            if (k==0):\n",
    "                text += current_file[k]\n",
    "            else:\n",
    "                text += ' ' + current_file[k]\n",
    "        text_files.append(text)"
   ]
  },
  {
   "cell_type": "code",
   "execution_count": 15,
   "metadata": {
    "collapsed": false
   },
   "outputs": [],
   "source": [
    "tfidf_vectorizer = TfidfVectorizer(max_df=0.9, min_df=0.1,stop_words='english',decode_error='ignore')\n",
    "tfidf_matrix = tfidf_vectorizer.fit_transform(text_files)\n",
    "#tfidf_vectorizer = CountVectorizer(max_df=0.9, min_df=0.1,stop_words='english',decode_error='ignore')\n",
    "#tfidf_matrix = tfidf_vectorizer.fit_transform(text_files)"
   ]
  },
  {
   "cell_type": "code",
   "execution_count": 16,
   "metadata": {
    "collapsed": false
   },
   "outputs": [
    {
     "name": "stdout",
     "output_type": "stream",
     "text": [
      "(433, 251)\n",
      "433\n"
     ]
    }
   ],
   "source": [
    "print tfidf_matrix.shape\n",
    "print len(list_id_candidates)"
   ]
  },
  {
   "cell_type": "code",
   "execution_count": 17,
   "metadata": {
    "collapsed": false
   },
   "outputs": [],
   "source": [
    "U, s, V = np.linalg.svd(tfidf_matrix.todense(), full_matrices=True)"
   ]
  },
  {
   "cell_type": "code",
   "execution_count": 18,
   "metadata": {
    "collapsed": false
   },
   "outputs": [
    {
     "name": "stdout",
     "output_type": "stream",
     "text": [
      "[  3.90842952e+00   1.27405640e-01   7.56249282e-01   1.33541824e-01\n",
      "   1.89489738e-01   5.23916340e-02   7.08437540e-02   6.48582024e-02\n",
      "   1.25457971e-01   1.02245340e-01   7.41779986e-02   3.56709908e-02\n",
      "   6.65851122e-02   2.74477910e-02   3.43575450e-02   3.22300884e-02\n",
      "   2.82626476e-02   3.24780975e-02   1.64559092e-02   6.93955054e-02\n",
      "   2.75248353e-03   2.40390036e-02   3.01972202e-02   1.64160254e-02\n",
      "   2.27679933e-02   1.89647220e-02   2.23125725e-02   1.23907716e-02\n",
      "   9.43233854e-03   2.26605822e-02   3.34716470e-02   1.57140179e-02\n",
      "   2.02058000e-02   2.42536044e-02   8.79649287e-03   1.21401603e-02\n",
      "   1.01754359e-03   1.84330077e-02   1.11257827e-02   1.02361458e-02\n",
      "   1.51979622e-02   3.67067738e-03   2.91410667e-02   1.03591760e-02\n",
      "   1.57203618e-02   1.29967041e-02   1.22469776e-02   1.92840938e-02\n",
      "   3.70644591e-03   1.77464688e-02]\n"
     ]
    },
    {
     "data": {
      "image/png": "[encoded data removed]",
      "text/plain": [
       "<matplotlib.figure.Figure at 0x7fe8de53c8d0>"
      ]
     },
     "metadata": {},
     "output_type": "display_data"
    }
   ],
   "source": [
    "import matplotlib.pyplot as plt\n",
    "%matplotlib inline\n",
    "\n",
    "plt.plot(s[0:50] - s[1:51])\n",
    "print (s[0:50] - s[1:51]) \n",
    "\n",
    "\n",
    "#the first 10 eigenvalues shows significantly variations all the other not so much, I decide to take only the first 10\n",
    "#columns of U for this"
   ]
  },
  {
   "cell_type": "code",
   "execution_count": 20,
   "metadata": {
    "collapsed": false
   },
   "outputs": [
    {
     "name": "stdout",
     "output_type": "stream",
     "text": [
      "-22.6841732292\n"
     ]
    }
   ],
   "source": [
    "from sklearn.manifold import TSNE\n",
    "\n",
    "U_selected = U[:,0:25]\n",
    "np.set_printoptions(threshold='nan')\n",
    "print np.sum(U_selected)\n",
    "model = TSNE(n_components=2, random_state=0)\n",
    "tsne_xy=model.fit_transform(U_selected)"
   ]
  },
  {
   "cell_type": "code",
   "execution_count": 23,
   "metadata": {
    "collapsed": true
   },
   "outputs": [],
   "source": [
    "np.savetxt(\"tsne_xy\",tsne_xy)"
   ]
  }
 ],
 "metadata": {
  "hide_input": false,
  "kernelspec": {
   "display_name": "Python 2",
   "language": "python",
   "name": "python2"
  },
  "language_info": {
   "codemirror_mode": {
    "name": "ipython",
    "version": 2
   },
   "file_extension": ".py",
   "mimetype": "text/x-python",
   "name": "python",
   "nbconvert_exporter": "python",
   "pygments_lexer": "ipython2",
   "version": "2.7.11"
  },
  "toc": {
   "toc_cell": false,
   "toc_number_sections": true,
   "toc_threshold": 6,
   "toc_window_display": false
  }
 },
 "nbformat": 4,
 "nbformat_minor": 0
}
